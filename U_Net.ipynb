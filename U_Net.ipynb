{
  "nbformat": 4,
  "nbformat_minor": 0,
  "metadata": {
    "kernelspec": {
      "display_name": "Python 3",
      "language": "python",
      "name": "python3"
    },
    "language_info": {
      "codemirror_mode": {
        "name": "ipython",
        "version": 3
      },
      "file_extension": ".py",
      "mimetype": "text/x-python",
      "name": "python",
      "nbconvert_exporter": "python",
      "pygments_lexer": "ipython3",
      "version": "3.7.6"
    },
    "colab": {
      "name": "U-Net.ipynb",
      "provenance": [],
      "collapsed_sections": []
    },
    "accelerator": "GPU"
  },
  "cells": [
    {
      "cell_type": "markdown",
      "metadata": {
        "id": "mt3kAilP8Dgd",
        "colab_type": "text"
      },
      "source": [
        "#**Dehazing with U-Net**"
      ]
    },
    {
      "cell_type": "code",
      "metadata": {
        "id": "iG4376jwyuGS",
        "colab_type": "code",
        "colab": {}
      },
      "source": [
        "#%%\n",
        "import torch\n",
        "import torch.nn as nn\n",
        "import torch.nn.functional as F\n",
        "import torch.optim as optim\n",
        "from PIL import Image, ImageDraw, ImageFilter, ImageFont\n",
        "import os\n",
        "from pathlib import Path\n",
        "import mimetypes\n",
        "from glob import glob\n",
        "import matplotlib.pyplot as plt\n",
        "import numpy as np\n",
        "import itertools\n",
        "import logging\n",
        "from os.path import splitext\n",
        "from os import listdir\n",
        "from torch.utils.data import Dataset\n",
        "from torchvision.models import resnet34\n",
        "from torchvision.transforms import Compose"
      ],
      "execution_count": null,
      "outputs": []
    },
    {
      "cell_type": "code",
      "metadata": {
        "id": "lCfetEa0aNtL",
        "colab_type": "code",
        "colab": {
          "base_uri": "https://localhost:8080/",
          "height": 33
        },
        "outputId": "7dacba80-2c1e-4719-899d-e3235078c3a0"
      },
      "source": [
        "from google.colab import drive\n",
        "drive.mount('/content/gdrive')\n",
        "!ln -s /content/gdrive/My\\ Drive/ /mydrive"
      ],
      "execution_count": null,
      "outputs": [
        {
          "output_type": "stream",
          "text": [
            "Mounted at /content/gdrive\n"
          ],
          "name": "stdout"
        }
      ]
    },
    {
      "cell_type": "code",
      "metadata": {
        "id": "MkxIOuiCbEa6",
        "colab_type": "code",
        "colab": {
          "base_uri": "https://localhost:8080/",
          "height": 33
        },
        "outputId": "bcf1861c-9ede-4b8f-f212-6c826f4d01a3"
      },
      "source": [
        "!pwd\n",
        "!mkdir intermediate\n",
        "!mkdir cpt"
      ],
      "execution_count": null,
      "outputs": [
        {
          "output_type": "stream",
          "text": [
            "/content\n"
          ],
          "name": "stdout"
        }
      ]
    },
    {
      "cell_type": "code",
      "metadata": {
        "id": "W4g2ZfI9aS5q",
        "colab_type": "code",
        "colab": {
          "base_uri": "https://localhost:8080/",
          "height": 50
        },
        "outputId": "f87b901a-f28d-4788-9431-bc6e238dc316"
      },
      "source": [
        "!ls /mydrive/Dehazing/\n",
        "!cp /mydrive/Dehazing/reside.zip ../\n",
        "!unzip -q ../reside.zip -d dataset/"
      ],
      "execution_count": null,
      "outputs": [
        {
          "output_type": "stream",
          "text": [
            "cpt.zip\t\t      reside_pix2pix.zip  temp_dataset_cycleGAN.zip\n",
            "intermediate_old.zip  reside.zip\t  temp_dataset_pix2pix.zip\n"
          ],
          "name": "stdout"
        }
      ]
    },
    {
      "cell_type": "code",
      "metadata": {
        "id": "tZQkKt5TyuGW",
        "colab_type": "code",
        "colab": {}
      },
      "source": [
        "# %%\n",
        "path = \"/content/dataset/reside\"\n",
        "path_lr = path + \"/trans\"\n",
        "path_hr = path + \"/hazy\""
      ],
      "execution_count": null,
      "outputs": []
    },
    {
      "cell_type": "code",
      "metadata": {
        "id": "SDkFXdXnyuGZ",
        "colab_type": "code",
        "colab": {}
      },
      "source": [
        "# %%\n",
        "\n",
        "\n",
        "def plot_img_and_mask(img, mask):\n",
        "    classes = mask.shape[2] if len(mask.shape) > 2 else 1\n",
        "    fig, ax = plt.subplots(1, classes + 1)\n",
        "    ax[0].set_title(\"Input image\")\n",
        "    ax[0].imshow(img)\n",
        "    if classes > 1:\n",
        "        for i in range(classes):\n",
        "            ax[i + 1].set_title(f\"Output mask (class {i+1})\")\n",
        "            ax[i + 1].imshow(mask[:, :, i])\n",
        "    else:\n",
        "        ax[1].set_title(f\"Output mask\")\n",
        "        ax[1].imshow(mask)\n",
        "    plt.xticks([]), plt.yticks([])\n",
        "    plt.show()"
      ],
      "execution_count": null,
      "outputs": []
    },
    {
      "cell_type": "code",
      "metadata": {
        "id": "WIuS6P4FyuGc",
        "colab_type": "code",
        "colab": {}
      },
      "source": [
        "# %%\n",
        "\n",
        "\n",
        "class BasicDataset(Dataset):\n",
        "    def __init__(self, imgs_dir, masks_dir, scale=1):\n",
        "        self.imgs_dir = imgs_dir\n",
        "        self.masks_dir = masks_dir\n",
        "        self.scale = scale\n",
        "        assert 0 < scale <= 1, \"Scale must be between 0 and 1\"\n",
        "\n",
        "        self.ids = [\n",
        "            splitext(file)[0] for file in listdir(imgs_dir) if not file.startswith(\".\")\n",
        "        ]\n",
        "        # self.c = len(self.ids)\n",
        "\n",
        "    #         logging.info(f'Creating dataset with {len(self.ids)} examples')\n",
        "\n",
        "    def __len__(self):\n",
        "        return len(self.ids)\n",
        "\n",
        "    @classmethod\n",
        "    def preprocess(cls, pil_img, scale):\n",
        "        w, h = pil_img.size\n",
        "        newW, newH = int(scale * w), int(scale * h)\n",
        "        assert newW > 0 and newH > 0, \"Scale is too small\"\n",
        "        pil_img = pil_img.resize((128, 128))\n",
        "\n",
        "        img_nd = np.array(pil_img)\n",
        "\n",
        "        if len(img_nd.shape) == 2:\n",
        "            img_nd = np.expand_dims(img_nd, axis=2)\n",
        "\n",
        "        # HWC to CHW\n",
        "        img_trans = img_nd.transpose((2, 0, 1))\n",
        "        if img_trans.max() > 1:\n",
        "            img_trans = img_trans / 255\n",
        "\n",
        "        return img_trans\n",
        "\n",
        "    def __getitem__(self, i):\n",
        "        idx = self.ids[i]\n",
        "        mask_file = self.masks_dir + \"/\" + idx + \".png\"\n",
        "        img_file = self.imgs_dir + \"/\" + idx + \".png\"\n",
        "\n",
        "        mask = Image.open(mask_file)\n",
        "        img = Image.open(img_file)\n",
        "\n",
        "        assert (\n",
        "            img.size == mask.size\n",
        "        ), f\"Image and mask {idx} should be the same size, but are {img.size} and {mask.size}\"\n",
        "\n",
        "        img = self.preprocess(img, self.scale)\n",
        "        mask = self.preprocess(mask, self.scale)\n",
        "\n",
        "        return (\n",
        "            torch.from_numpy(img).type(torch.FloatTensor),\n",
        "            torch.from_numpy(mask).type(torch.FloatTensor),\n",
        "        )"
      ],
      "execution_count": null,
      "outputs": []
    },
    {
      "cell_type": "code",
      "metadata": {
        "id": "_3nBprq_yuGg",
        "colab_type": "code",
        "colab": {}
      },
      "source": [
        "# %%\n",
        "dataset = BasicDataset(path_hr, path_lr, scale=0.5)"
      ],
      "execution_count": null,
      "outputs": []
    },
    {
      "cell_type": "code",
      "metadata": {
        "id": "-cUd3IidyuGj",
        "colab_type": "code",
        "colab": {
          "base_uri": "https://localhost:8080/",
          "height": 33
        },
        "outputId": "214cd284-7a62-4964-e3bf-360afbe2c214"
      },
      "source": [
        "dataset.__getitem__(1)[0].permute(1, 2, 0).shape"
      ],
      "execution_count": null,
      "outputs": [
        {
          "output_type": "execute_result",
          "data": {
            "text/plain": [
              "torch.Size([128, 128, 3])"
            ]
          },
          "metadata": {
            "tags": []
          },
          "execution_count": 9
        }
      ]
    },
    {
      "cell_type": "code",
      "metadata": {
        "id": "9rde7_JtyuGm",
        "colab_type": "code",
        "colab": {
          "base_uri": "https://localhost:8080/",
          "height": 285
        },
        "outputId": "16b6fce7-2929-472e-cf40-3c6c3614ae8c"
      },
      "source": [
        "# %%\n",
        "plt.imshow(dataset.__getitem__(1)[0].permute(1, 2, 0))"
      ],
      "execution_count": null,
      "outputs": [
        {
          "output_type": "execute_result",
          "data": {
            "text/plain": [
              "<matplotlib.image.AxesImage at 0x7fd1868b2a58>"
            ]
          },
          "metadata": {
            "tags": []
          },
          "execution_count": 10
        },
        {
          "output_type": "display_data",
          "data": {
            "image/png": "[encoded data removed]",
            "text/plain": [
              "<Figure size 432x288 with 1 Axes>"
            ]
          },
          "metadata": {
            "tags": [],
            "needs_background": "light"
          }
        }
      ]
    },
    {
      "cell_type": "code",
      "metadata": {
        "id": "xC0Ae84nyuGr",
        "colab_type": "code",
        "colab": {
          "base_uri": "https://localhost:8080/",
          "height": 285
        },
        "outputId": "95011bd8-a0be-40cf-c113-fc965cdcaa85"
      },
      "source": [
        "# %%\n",
        "plt.imshow(dataset.__getitem__(1)[1].permute(1, 2, 0))"
      ],
      "execution_count": null,
      "outputs": [
        {
          "output_type": "execute_result",
          "data": {
            "text/plain": [
              "<matplotlib.image.AxesImage at 0x7fd186291860>"
            ]
          },
          "metadata": {
            "tags": []
          },
          "execution_count": 11
        },
        {
          "output_type": "display_data",
          "data": {
            "image/png": "[encoded data removed]",
            "text/plain": [
              "<Figure size 432x288 with 1 Axes>"
            ]
          },
          "metadata": {
            "tags": [],
            "needs_background": "light"
          }
        }
      ]
    },
    {
      "cell_type": "markdown",
      "metadata": {
        "id": "sUE3c8FbyuGu",
        "colab_type": "text"
      },
      "source": [
        "# inits"
      ]
    },
    {
      "cell_type": "code",
      "metadata": {
        "id": "eyitbi6SyuGw",
        "colab_type": "code",
        "colab": {}
      },
      "source": [
        "# %%\n",
        "def truncated_normal_(tensor, mean=0, std=1):\n",
        "    size = tensor.shape\n",
        "    tmp = tensor.new_empty(size + (4,)).normal_()\n",
        "    valid = (tmp < 2) & (tmp > -2)\n",
        "    ind = valid.max(-1, keepdim=True)[1]\n",
        "    tensor.data.copy_(tmp.gather(-1, ind).squeeze(-1))\n",
        "    tensor.data.mul_(std).add_(mean)\n",
        "\n",
        "\n",
        "def init_weights(m):\n",
        "    if type(m) == nn.Conv2d or type(m) == nn.ConvTranspose2d:\n",
        "        nn.init.kaiming_normal_(m.weight, mode=\"fan_in\", nonlinearity=\"relu\")\n",
        "        # nn.init.normal_(m.weight, std=0.001)\n",
        "        # nn.init.normal_(m.bias, std=0.001)\n",
        "        truncated_normal_(m.bias, mean=0, std=0.001)"
      ],
      "execution_count": null,
      "outputs": []
    },
    {
      "cell_type": "markdown",
      "metadata": {
        "id": "9VV64yeQyuGy",
        "colab_type": "text"
      },
      "source": [
        "# Blocks for Unet"
      ]
    },
    {
      "cell_type": "code",
      "metadata": {
        "id": "nqDAasNryuGz",
        "colab_type": "code",
        "colab": {}
      },
      "source": [
        "class DownConvBlock(nn.Module):\n",
        "    def __init__(self, input_dim, output_dim, initializers, padding, pool=True):\n",
        "        super(DownConvBlock, self).__init__()\n",
        "        layers = []\n",
        "\n",
        "        if pool:\n",
        "            layers.append(\n",
        "                nn.AvgPool2d(kernel_size=2, stride=2, padding=0, ceil_mode=True)\n",
        "            )\n",
        "\n",
        "        layers.append(\n",
        "            nn.Conv2d(\n",
        "                input_dim, output_dim, kernel_size=3, stride=1, padding=int(padding)\n",
        "            )\n",
        "        )\n",
        "        layers.append(nn.ReLU(inplace=True))\n",
        "        layers.append(\n",
        "            nn.Conv2d(\n",
        "                output_dim, output_dim, kernel_size=3, stride=1, padding=int(padding)\n",
        "            )\n",
        "        )\n",
        "        layers.append(nn.ReLU(inplace=True))\n",
        "        layers.append(\n",
        "            nn.Conv2d(\n",
        "                output_dim, output_dim, kernel_size=3, stride=1, padding=int(padding)\n",
        "            )\n",
        "        )\n",
        "        layers.append(nn.ReLU(inplace=True))\n",
        "\n",
        "        self.layers = nn.Sequential(*layers)\n",
        "\n",
        "        self.layers.apply(init_weights)\n",
        "\n",
        "    def forward(self, patch):\n",
        "        return self.layers(patch)"
      ],
      "execution_count": null,
      "outputs": []
    },
    {
      "cell_type": "code",
      "metadata": {
        "id": "2tBdrq-3yuG1",
        "colab_type": "code",
        "colab": {}
      },
      "source": [
        "class UpConvBlock(nn.Module):\n",
        "    def __init__(self, input_dim, output_dim, initializers, padding, bilinear=True):\n",
        "        super(UpConvBlock, self).__init__()\n",
        "        self.bilinear = bilinear\n",
        "\n",
        "        if not self.bilinear:\n",
        "            self.upconv_layer = nn.ConvTranspose2d(\n",
        "                input_dim, output_dim, kernel_size=2, stride=2\n",
        "            )\n",
        "            self.upconv_layer.apply(init_weights)\n",
        "\n",
        "        self.conv_block = DownConvBlock(\n",
        "            input_dim, output_dim, initializers, padding, pool=False\n",
        "        )\n",
        "\n",
        "    def forward(self, x, bridge):\n",
        "        if self.bilinear:\n",
        "            up = nn.functional.interpolate(\n",
        "                x, mode=\"bilinear\", scale_factor=2, align_corners=True\n",
        "            )\n",
        "        else:\n",
        "            up = self.upconv_layer(x)\n",
        "\n",
        "        assert up.shape[3] == bridge.shape[3]\n",
        "        out = torch.cat([up, bridge], 1)\n",
        "        out = self.conv_block(out)\n",
        "\n",
        "        return out"
      ],
      "execution_count": null,
      "outputs": []
    },
    {
      "cell_type": "markdown",
      "metadata": {
        "id": "9UtbTWw7yuG4",
        "colab_type": "text"
      },
      "source": [
        "\n",
        "# Unet "
      ]
    },
    {
      "cell_type": "markdown",
      "metadata": {
        "id": "7hvDUEpTyuG4",
        "colab_type": "text"
      },
      "source": [
        "https://arxiv.org/abs/1505.04597\n",
        "\n",
        "@article{DBLP:journals/corr/RonnebergerFB15,\n",
        "  author    = {Olaf Ronneberger and\n",
        "               Philipp Fischer and\n",
        "               Thomas Brox},\n",
        "  title     = {U-Net: Convolutional Networks for Biomedical Image Segmentation},\n",
        "  journal   = {CoRR},\n",
        "  volume    = {abs/1505.04597},\n",
        "  year      = {2015},\n",
        "  url       = {http://arxiv.org/abs/1505.04597},\n",
        "  archivePrefix = {arXiv},\n",
        "  eprint    = {1505.04597},\n",
        "  timestamp = {Mon, 13 Aug 2018 16:46:52 +0200},\n",
        "  biburl    = {https://dblp.org/rec/journals/corr/RonnebergerFB15.bib},\n",
        "  bibsource = {dblp computer science bibliography, https://dblp.org}\n",
        "}\n",
        "\n"
      ]
    },
    {
      "cell_type": "code",
      "metadata": {
        "id": "Dzmqki5WyuG5",
        "colab_type": "code",
        "colab": {}
      },
      "source": [
        "# %%\n",
        "class Unet(nn.Module):\n",
        "    def __init__(\n",
        "        self,\n",
        "        input_channels,\n",
        "        num_classes,\n",
        "        num_filters,\n",
        "        initializers,\n",
        "        apply_last_layer=True,\n",
        "        padding=True,\n",
        "    ):\n",
        "        super(Unet, self).__init__()\n",
        "        self.input_channels = input_channels\n",
        "        self.num_classes = num_classes\n",
        "        self.num_filters = num_filters\n",
        "        self.padding = padding\n",
        "        self.activation_maps = []\n",
        "        self.apply_last_layer = apply_last_layer\n",
        "        self.contracting_path = nn.ModuleList()\n",
        "        #         self.pl = nn.modules.pixelshuffle\n",
        "\n",
        "        for i in range(len(self.num_filters)):\n",
        "            input = self.input_channels if i == 0 else output\n",
        "            output = self.num_filters[i]\n",
        "\n",
        "            if i == 0:\n",
        "                pool = False\n",
        "            else:\n",
        "                pool = True\n",
        "\n",
        "            self.contracting_path.append(\n",
        "                DownConvBlock(input, output, initializers, padding, pool=pool)\n",
        "            )\n",
        "\n",
        "        self.upsampling_path = nn.ModuleList()\n",
        "\n",
        "        n = len(self.num_filters) - 2\n",
        "        for i in range(n, -1, -1):\n",
        "            input = output + self.num_filters[i]\n",
        "            output = self.num_filters[i]\n",
        "            self.upsampling_path.append(\n",
        "                UpConvBlock(input, output, initializers, padding)\n",
        "            )\n",
        "\n",
        "        if self.apply_last_layer:\n",
        "            self.last_layer = nn.Conv2d(output, num_classes, kernel_size=1)\n",
        "            # nn.init.kaiming_normal_(self.last_layer.weight, mode='fan_in',nonlinearity='relu')\n",
        "            # nn.init.normal_(self.last_layer.bias)\n",
        "\n",
        "    def forward(self, x, val):\n",
        "        blocks = []\n",
        "        for i, down in enumerate(self.contracting_path):\n",
        "            x = down(x)\n",
        "            if i != len(self.contracting_path) - 1:\n",
        "                blocks.append(x)\n",
        "\n",
        "        for i, up in enumerate(self.upsampling_path):\n",
        "            x = up(x, blocks[-i - 1])\n",
        "\n",
        "        del blocks\n",
        "\n",
        "        # Used for saving the activations and plotting\n",
        "        #         if val:\n",
        "        #             self.activation_maps.append(x)\n",
        "\n",
        "        if self.apply_last_layer:\n",
        "            x = self.last_layer(x)\n",
        "        #         x = self.pl(x)\n",
        "\n",
        "        return x"
      ],
      "execution_count": null,
      "outputs": []
    },
    {
      "cell_type": "code",
      "metadata": {
        "id": "_eZLz8qmyuG7",
        "colab_type": "code",
        "colab": {}
      },
      "source": [
        "# %%\n",
        "\n",
        "from torch.utils.data.sampler import SubsetRandomSampler\n",
        "from torch.utils.data import DataLoader\n",
        "from tqdm import tqdm_notebook, tqdm"
      ],
      "execution_count": null,
      "outputs": []
    },
    {
      "cell_type": "code",
      "metadata": {
        "id": "1Pi39v5KyuG9",
        "colab_type": "code",
        "colab": {}
      },
      "source": [
        "def l2_regularisation(m):\n",
        "    l2_reg = None\n",
        "\n",
        "    for W in m.parameters():\n",
        "        if l2_reg is None:\n",
        "            l2_reg = W.norm(2)\n",
        "        else:\n",
        "            l2_reg = l2_reg + W.norm(2)\n",
        "    return l2_reg"
      ],
      "execution_count": null,
      "outputs": []
    },
    {
      "cell_type": "code",
      "metadata": {
        "id": "PkWcjdxOyuHB",
        "colab_type": "code",
        "colab": {}
      },
      "source": [
        "# %%\n",
        "dataset_size = len(dataset)\n",
        "indices = list(range(dataset_size))\n",
        "split = int(np.floor(0.1 * dataset_size))\n",
        "np.random.shuffle(indices)\n",
        "train_indices, test_indices = indices[split:], indices[:split]"
      ],
      "execution_count": null,
      "outputs": []
    },
    {
      "cell_type": "code",
      "metadata": {
        "id": "kNzFQl2yyuHD",
        "colab_type": "code",
        "colab": {
          "base_uri": "https://localhost:8080/",
          "height": 33
        },
        "outputId": "c48dc783-5ac6-4ffe-e46f-f89c5311ef0c"
      },
      "source": [
        "#%%\n",
        "train_sampler = SubsetRandomSampler(train_indices)\n",
        "test_sampler = SubsetRandomSampler(test_indices)\n",
        "train_loader = DataLoader(dataset, batch_size=16, sampler=train_sampler)\n",
        "test_loader = DataLoader(dataset, batch_size=16, sampler=test_sampler)\n",
        "print(\"Number of training/test patches:\", (len(train_indices), len(test_indices)))"
      ],
      "execution_count": null,
      "outputs": [
        {
          "output_type": "stream",
          "text": [
            "Number of training/test patches: (12591, 1399)\n"
          ],
          "name": "stdout"
        }
      ]
    },
    {
      "cell_type": "code",
      "metadata": {
        "id": "u0fSRv83yuHG",
        "colab_type": "code",
        "colab": {}
      },
      "source": [
        "import gc"
      ],
      "execution_count": null,
      "outputs": []
    },
    {
      "cell_type": "code",
      "metadata": {
        "id": "N39awGriyuHJ",
        "colab_type": "code",
        "colab": {
          "base_uri": "https://localhost:8080/",
          "height": 33
        },
        "outputId": "a4d403ee-0e9b-47a1-b3d1-7092a5bc66a2"
      },
      "source": [
        "net = None\n",
        "gc.collect()"
      ],
      "execution_count": null,
      "outputs": [
        {
          "output_type": "execute_result",
          "data": {
            "text/plain": [
              "252"
            ]
          },
          "metadata": {
            "tags": []
          },
          "execution_count": 21
        }
      ]
    },
    {
      "cell_type": "code",
      "metadata": {
        "scrolled": true,
        "id": "DvoksWI6yuHM",
        "colab_type": "code",
        "colab": {}
      },
      "source": [
        "# %%\n",
        "net = Unet(\n",
        "    input_channels=3,\n",
        "    num_classes=3,\n",
        "    num_filters=[32, 64, 128, 192],\n",
        "    initializers={\"w\": \"he_uniform\", \"b\": \"normal\"},\n",
        ")"
      ],
      "execution_count": null,
      "outputs": []
    },
    {
      "cell_type": "code",
      "metadata": {
        "id": "q-zGBvp1yuHQ",
        "colab_type": "code",
        "colab": {}
      },
      "source": [
        "net = net.to(\"cuda\")"
      ],
      "execution_count": null,
      "outputs": []
    },
    {
      "cell_type": "code",
      "metadata": {
        "id": "Vq2MjA4myuHT",
        "colab_type": "code",
        "colab": {}
      },
      "source": [
        "from tqdm import trange"
      ],
      "execution_count": null,
      "outputs": []
    },
    {
      "cell_type": "code",
      "metadata": {
        "id": "5ga8sZwWyuHV",
        "colab_type": "code",
        "colab": {
          "base_uri": "https://localhost:8080/",
          "height": 50
        },
        "outputId": "c3e03681-051f-4e8b-a4ae-b8679952c570"
      },
      "source": [
        "# %%\n",
        "optimizer = torch.optim.AdamW(net.parameters(), lr=1e-5, weight_decay=10e-3)\n",
        "criterion = nn.MSELoss(reduce=\"mean\").to(\"cuda\")"
      ],
      "execution_count": null,
      "outputs": [
        {
          "output_type": "stream",
          "text": [
            "/usr/local/lib/python3.6/dist-packages/torch/nn/_reduction.py:44: UserWarning: size_average and reduce args will be deprecated, please use reduction='mean' instead.\n",
            "  warnings.warn(warning.format(ret))\n"
          ],
          "name": "stderr"
        }
      ]
    },
    {
      "cell_type": "code",
      "metadata": {
        "scrolled": true,
        "id": "R05ygx8TyuHX",
        "colab_type": "code",
        "colab": {}
      },
      "source": [
        "%%capture\n",
        "\n",
        "epochs = 100\n",
        "t = trange(epochs, desc=\"ML\")\n",
        "epoch_loss = []\n",
        "for epoch in t:\n",
        "\n",
        "    net.train()\n",
        "    for step, (patch, mask) in enumerate(train_loader):\n",
        "        patch = patch.to(\"cuda\")\n",
        "        mask = mask.to(\"cuda\")\n",
        "        mask2 = torch.unsqueeze(mask, 1)\n",
        "        ou = net.forward(patch, mask)\n",
        "        #         print(mask.shape, ou.shape)\n",
        "        loss = criterion(mask.squeeze(1), ou)\n",
        "        epoch_loss.append(loss.item())\n",
        "        t.set_description(\"ML (loss=%g)\" % loss)\n",
        "        optimizer.zero_grad()\n",
        "        #         optimizer.zero_grad()\n",
        "        loss.backward()\n",
        "        #         optimizer2.step()\n",
        "        optimizer.step()\n",
        "    if epoch % 100 == 0:\n",
        "        plt.cla()\n",
        "        plt.clf()\n",
        "        im = net.forward(patch, mask).__getitem__(1).permute(1, 2, 0)\n",
        "        plt.imshow(im.cpu().detach().numpy())\n",
        "        plt.savefig(f\"intermediate/{epoch}.jpg\")\n",
        "    if epoch % 500 == 0:\n",
        "        torch.save(net.state_dict(), \"cpt/{}.pth\".format(epoch))\n",
        "        im = net.forward(patch, mask).__getitem__(1).permute(1, 2, 0)"
      ],
      "execution_count": null,
      "outputs": []
    },
    {
      "cell_type": "code",
      "metadata": {
        "id": "QvA5FuOGyuHa",
        "colab_type": "code",
        "colab": {}
      },
      "source": [
        "def save_im(ep):\n",
        "    net.eval()\n",
        "    for step, (patch, mask) in enumerate(train_loader):\n",
        "        patch = patch.to(\"cuda\")\n",
        "        mask = mask.to(\"cuda\")\n",
        "        mask2 = torch.unsqueeze(mask, 1)\n",
        "        im = net.forward(patch, mask).__getitem__(1).permute(1, 2, 0)\n",
        "        print(im.shape)\n",
        "        plt.imshow(im.cpu().detach().numpy())\n",
        "        print(cur_e)\n",
        "        plt.savefig(f\"intermediate/{ep}.jpg\")\n",
        "        break"
      ],
      "execution_count": null,
      "outputs": []
    },
    {
      "cell_type": "code",
      "metadata": {
        "id": "73WBFAleyuHc",
        "colab_type": "code",
        "colab": {
          "base_uri": "https://localhost:8080/",
          "height": 50
        },
        "outputId": "ac7fa293-c555-46bc-bc24-260cdc6aabf3"
      },
      "source": [
        "!zip -r intermediate.zip /content/intermediate/\n",
        "!cp /content/intermediate.zip /mydrive/Dehazing/"
      ],
      "execution_count": null,
      "outputs": [
        {
          "output_type": "stream",
          "text": [
            "updating: content/intermediate/ (stored 0%)\n",
            "  adding: content/intermediate/0.jpg (deflated 8%)\n"
          ],
          "name": "stdout"
        }
      ]
    },
    {
      "cell_type": "code",
      "metadata": {
        "id": "FzQfrHKfyuHf",
        "colab_type": "code",
        "colab": {
          "base_uri": "https://localhost:8080/",
          "height": 50
        },
        "outputId": "cffba3e0-1d32-43a3-8d29-1c2c200883f5"
      },
      "source": [
        "!zip -r cpt.zip /content/cpt/\n",
        "!cp /content/cpt.zip /mydrive/Dehazing/"
      ],
      "execution_count": null,
      "outputs": [
        {
          "output_type": "stream",
          "text": [
            "updating: content/cpt/ (stored 0%)\n",
            "  adding: content/cpt/0.pth (deflated 7%)\n"
          ],
          "name": "stdout"
        }
      ]
    },
    {
      "cell_type": "code",
      "metadata": {
        "id": "i32L7ZgUyuHi",
        "colab_type": "code",
        "colab": {
          "base_uri": "https://localhost:8080/",
          "height": 17
        },
        "outputId": "d5ecbd34-d482-492b-e451-44a8ebf795b8"
      },
      "source": [
        "from google.colab import files\n",
        "files.download('intermediate.zip')\n",
        "# files.download('cpt.zip')"
      ],
      "execution_count": null,
      "outputs": [
        {
          "output_type": "display_data",
          "data": {
            "application/javascript": [
              "\n",
              "    async function download(id, filename, size) {\n",
              "      if (!google.colab.kernel.accessAllowed) {\n",
              "        return;\n",
              "      }\n",
              "      const div = document.createElement('div');\n",
              "      const label = document.createElement('label');\n",
              "      label.textContent = `Downloading \"${filename}\": `;\n",
              "      div.appendChild(label);\n",
              "      const progress = document.createElement('progress');\n",
              "      progress.max = size;\n",
              "      div.appendChild(progress);\n",
              "      document.body.appendChild(div);\n",
              "\n",
              "      const buffers = [];\n",
              "      let downloaded = 0;\n",
              "\n",
              "      const channel = await google.colab.kernel.comms.open(id);\n",
              "      // Send a message to notify the kernel that we're ready.\n",
              "      channel.send({})\n",
              "\n",
              "      for await (const message of channel.messages) {\n",
              "        // Send a message to notify the kernel that we're ready.\n",
              "        channel.send({})\n",
              "        if (message.buffers) {\n",
              "          for (const buffer of message.buffers) {\n",
              "            buffers.push(buffer);\n",
              "            downloaded += buffer.byteLength;\n",
              "            progress.value = downloaded;\n",
              "          }\n",
              "        }\n",
              "      }\n",
              "      const blob = new Blob(buffers, {type: 'application/binary'});\n",
              "      const a = document.createElement('a');\n",
              "      a.href = window.URL.createObjectURL(blob);\n",
              "      a.download = filename;\n",
              "      div.appendChild(a);\n",
              "      a.click();\n",
              "      div.remove();\n",
              "    }\n",
              "  "
            ],
            "text/plain": [
              "<IPython.core.display.Javascript object>"
            ]
          },
          "metadata": {
            "tags": []
          }
        },
        {
          "output_type": "display_data",
          "data": {
            "application/javascript": [
              "download(\"download_4d323493-ba23-4ce6-a980-fc34f12557bc\", \"intermediate.zip\", 14071)"
            ],
            "text/plain": [
              "<IPython.core.display.Javascript object>"
            ]
          },
          "metadata": {
            "tags": []
          }
        }
      ]
    },
    {
      "cell_type": "code",
      "metadata": {
        "id": "_-v7jp15yuHk",
        "colab_type": "code",
        "colab": {
          "base_uri": "https://localhost:8080/",
          "height": 274
        },
        "outputId": "6e7e8ffe-7621-4ba7-e7f5-c57510b046d8"
      },
      "source": [
        "import glob\n",
        "import matplotlib.pyplot as plt\n",
        "import matplotlib.image as mpimg\n",
        "%matplotlib inline\n",
        "\n",
        "images = []\n",
        "for img_path in glob.glob('/content/intermediate/*.jpg'):\n",
        "    images.append(mpimg.imread(img_path))\n",
        "\n",
        "plt.figure(figsize=(30,15))\n",
        "columns = 4\n",
        "for i, image in enumerate(images):\n",
        "    plt.subplot(len(images) / columns + 1, columns, i + 1)\n",
        "    plt.axis('off')\n",
        "    plt.imshow(image)"
      ],
      "execution_count": null,
      "outputs": [
        {
          "output_type": "display_data",
          "data": {
            "image/png": "[encoded data removed]",
            "text/plain": [
              "<Figure size 2160x1080 with 1 Axes>"
            ]
          },
          "metadata": {
            "tags": [],
            "needs_background": "light"
          }
        }
      ]
    },
    {
      "cell_type": "code",
      "metadata": {
        "id": "HBo6qlsryuIm",
        "colab_type": "code",
        "colab": {}
      },
      "source": [
        ""
      ],
      "execution_count": null,
      "outputs": []
    }
  ]
}